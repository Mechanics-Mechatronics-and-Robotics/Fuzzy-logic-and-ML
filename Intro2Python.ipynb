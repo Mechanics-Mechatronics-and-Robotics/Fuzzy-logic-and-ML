{
  "nbformat": 4,
  "nbformat_minor": 0,
  "metadata": {
    "colab": {
      "name": "Untitled23.ipynb",
      "provenance": [],
      "authorship_tag": "ABX9TyMjYP2hfr26pnt5kTU1XwTk",
      "include_colab_link": true
    },
    "kernelspec": {
      "name": "python3",
      "display_name": "Python 3"
    },
    "language_info": {
      "name": "python"
    }
  },
  "cells": [
    {
      "cell_type": "markdown",
      "metadata": {
        "id": "view-in-github",
        "colab_type": "text"
      },
      "source": [
        "<a href=\"https://colab.research.google.com/github/Mechanics-Mechatronics-and-Robotics/Fuzzy-logic-and-ML/blob/main/Intro2Python.ipynb\" target=\"_parent\"><img src=\"https://colab.research.google.com/assets/colab-badge.svg\" alt=\"Open In Colab\"/></a>"
      ]
    },
    {
      "cell_type": "markdown",
      "source": [
        "#Установка и загрузка библиотек"
      ],
      "metadata": {
        "id": "MoHg81y2B9fo"
      }
    },
    {
      "cell_type": "code",
      "execution_count": 1,
      "metadata": {
        "colab": {
          "base_uri": "https://localhost:8080/"
        },
        "id": "YAlI7pLPB1rq",
        "outputId": "81680983-6fbe-495d-ea9b-1f1b784fbe0d"
      },
      "outputs": [
        {
          "output_type": "stream",
          "name": "stdout",
          "text": [
            "\u001b[?25l\r\u001b[K     |▌                               | 10 kB 23.0 MB/s eta 0:00:01\r\u001b[K     |█                               | 20 kB 22.9 MB/s eta 0:00:01\r\u001b[K     |█▍                              | 30 kB 8.6 MB/s eta 0:00:01\r\u001b[K     |█▉                              | 40 kB 7.6 MB/s eta 0:00:01\r\u001b[K     |██▎                             | 51 kB 3.4 MB/s eta 0:00:01\r\u001b[K     |██▊                             | 61 kB 4.0 MB/s eta 0:00:01\r\u001b[K     |███▏                            | 71 kB 4.6 MB/s eta 0:00:01\r\u001b[K     |███▋                            | 81 kB 5.1 MB/s eta 0:00:01\r\u001b[K     |████                            | 92 kB 3.8 MB/s eta 0:00:01\r\u001b[K     |████▌                           | 102 kB 4.1 MB/s eta 0:00:01\r\u001b[K     |█████                           | 112 kB 4.1 MB/s eta 0:00:01\r\u001b[K     |█████▌                          | 122 kB 4.1 MB/s eta 0:00:01\r\u001b[K     |██████                          | 133 kB 4.1 MB/s eta 0:00:01\r\u001b[K     |██████▍                         | 143 kB 4.1 MB/s eta 0:00:01\r\u001b[K     |██████▉                         | 153 kB 4.1 MB/s eta 0:00:01\r\u001b[K     |███████▎                        | 163 kB 4.1 MB/s eta 0:00:01\r\u001b[K     |███████▊                        | 174 kB 4.1 MB/s eta 0:00:01\r\u001b[K     |████████▏                       | 184 kB 4.1 MB/s eta 0:00:01\r\u001b[K     |████████▋                       | 194 kB 4.1 MB/s eta 0:00:01\r\u001b[K     |█████████                       | 204 kB 4.1 MB/s eta 0:00:01\r\u001b[K     |█████████▋                      | 215 kB 4.1 MB/s eta 0:00:01\r\u001b[K     |██████████                      | 225 kB 4.1 MB/s eta 0:00:01\r\u001b[K     |██████████▌                     | 235 kB 4.1 MB/s eta 0:00:01\r\u001b[K     |███████████                     | 245 kB 4.1 MB/s eta 0:00:01\r\u001b[K     |███████████▍                    | 256 kB 4.1 MB/s eta 0:00:01\r\u001b[K     |███████████▉                    | 266 kB 4.1 MB/s eta 0:00:01\r\u001b[K     |████████████▎                   | 276 kB 4.1 MB/s eta 0:00:01\r\u001b[K     |████████████▊                   | 286 kB 4.1 MB/s eta 0:00:01\r\u001b[K     |█████████████▏                  | 296 kB 4.1 MB/s eta 0:00:01\r\u001b[K     |█████████████▋                  | 307 kB 4.1 MB/s eta 0:00:01\r\u001b[K     |██████████████                  | 317 kB 4.1 MB/s eta 0:00:01\r\u001b[K     |██████████████▋                 | 327 kB 4.1 MB/s eta 0:00:01\r\u001b[K     |███████████████                 | 337 kB 4.1 MB/s eta 0:00:01\r\u001b[K     |███████████████▌                | 348 kB 4.1 MB/s eta 0:00:01\r\u001b[K     |████████████████                | 358 kB 4.1 MB/s eta 0:00:01\r\u001b[K     |████████████████▍               | 368 kB 4.1 MB/s eta 0:00:01\r\u001b[K     |████████████████▉               | 378 kB 4.1 MB/s eta 0:00:01\r\u001b[K     |█████████████████▎              | 389 kB 4.1 MB/s eta 0:00:01\r\u001b[K     |█████████████████▊              | 399 kB 4.1 MB/s eta 0:00:01\r\u001b[K     |██████████████████▏             | 409 kB 4.1 MB/s eta 0:00:01\r\u001b[K     |██████████████████▋             | 419 kB 4.1 MB/s eta 0:00:01\r\u001b[K     |███████████████████▏            | 430 kB 4.1 MB/s eta 0:00:01\r\u001b[K     |███████████████████▋            | 440 kB 4.1 MB/s eta 0:00:01\r\u001b[K     |████████████████████            | 450 kB 4.1 MB/s eta 0:00:01\r\u001b[K     |████████████████████▌           | 460 kB 4.1 MB/s eta 0:00:01\r\u001b[K     |█████████████████████           | 471 kB 4.1 MB/s eta 0:00:01\r\u001b[K     |█████████████████████▍          | 481 kB 4.1 MB/s eta 0:00:01\r\u001b[K     |█████████████████████▉          | 491 kB 4.1 MB/s eta 0:00:01\r\u001b[K     |██████████████████████▎         | 501 kB 4.1 MB/s eta 0:00:01\r\u001b[K     |██████████████████████▊         | 512 kB 4.1 MB/s eta 0:00:01\r\u001b[K     |███████████████████████▏        | 522 kB 4.1 MB/s eta 0:00:01\r\u001b[K     |███████████████████████▋        | 532 kB 4.1 MB/s eta 0:00:01\r\u001b[K     |████████████████████████▏       | 542 kB 4.1 MB/s eta 0:00:01\r\u001b[K     |████████████████████████▋       | 552 kB 4.1 MB/s eta 0:00:01\r\u001b[K     |█████████████████████████       | 563 kB 4.1 MB/s eta 0:00:01\r\u001b[K     |█████████████████████████▌      | 573 kB 4.1 MB/s eta 0:00:01\r\u001b[K     |██████████████████████████      | 583 kB 4.1 MB/s eta 0:00:01\r\u001b[K     |██████████████████████████▍     | 593 kB 4.1 MB/s eta 0:00:01\r\u001b[K     |██████████████████████████▉     | 604 kB 4.1 MB/s eta 0:00:01\r\u001b[K     |███████████████████████████▎    | 614 kB 4.1 MB/s eta 0:00:01\r\u001b[K     |███████████████████████████▊    | 624 kB 4.1 MB/s eta 0:00:01\r\u001b[K     |████████████████████████████▏   | 634 kB 4.1 MB/s eta 0:00:01\r\u001b[K     |████████████████████████████▊   | 645 kB 4.1 MB/s eta 0:00:01\r\u001b[K     |█████████████████████████████▏  | 655 kB 4.1 MB/s eta 0:00:01\r\u001b[K     |█████████████████████████████▋  | 665 kB 4.1 MB/s eta 0:00:01\r\u001b[K     |██████████████████████████████  | 675 kB 4.1 MB/s eta 0:00:01\r\u001b[K     |██████████████████████████████▌ | 686 kB 4.1 MB/s eta 0:00:01\r\u001b[K     |███████████████████████████████ | 696 kB 4.1 MB/s eta 0:00:01\r\u001b[K     |███████████████████████████████▍| 706 kB 4.1 MB/s eta 0:00:01\r\u001b[K     |███████████████████████████████▉| 716 kB 4.1 MB/s eta 0:00:01\r\u001b[K     |████████████████████████████████| 720 kB 4.1 MB/s \n",
            "\u001b[33mWARNING: Retrying (Retry(total=4, connect=None, read=None, redirect=None, status=None)) after connection broken by 'ProtocolError('Connection aborted.', ConnectionResetError(104, 'Connection reset by peer'))': /simple/fastai/\u001b[0m\n",
            "\u001b[K     |████████████████████████████████| 189 kB 55.4 MB/s \n",
            "\u001b[K     |████████████████████████████████| 48 kB 3.9 MB/s \n",
            "\u001b[K     |████████████████████████████████| 1.2 MB 43.8 MB/s \n",
            "\u001b[K     |████████████████████████████████| 56 kB 2.4 MB/s \n",
            "\u001b[K     |████████████████████████████████| 558 kB 29.7 MB/s \n",
            "\u001b[K     |████████████████████████████████| 51 kB 232 kB/s \n",
            "\u001b[K     |████████████████████████████████| 130 kB 50.4 MB/s \n",
            "\u001b[?25hMounted at /content/gdrive\n"
          ]
        }
      ],
      "source": [
        "!pip install -Uqq fastbook\n",
        "import fastbook\n",
        "fastbook.setup_book()"
      ]
    },
    {
      "cell_type": "code",
      "source": [
        "from fastai.vision.all import *\n",
        "import cv2\n",
        "from google.colab.patches import cv2_imshow"
      ],
      "metadata": {
        "id": "dYxM-rMwC1-j"
      },
      "execution_count": 2,
      "outputs": []
    },
    {
      "cell_type": "markdown",
      "source": [
        "#Исходные данные"
      ],
      "metadata": {
        "id": "EgNqhgaNDoyT"
      }
    },
    {
      "cell_type": "markdown",
      "source": [
        "## Настройки"
      ],
      "metadata": {
        "id": "AF8NVd5TWpez"
      }
    },
    {
      "cell_type": "code",
      "source": [
        "#Visualization\n",
        "fig_size = (5,5)\n",
        "img_map = 'jet'# 'gray','hot', 'Blues'... (matplotlib)\n",
        "img_slice = []"
      ],
      "metadata": {
        "id": "DNJBs4QkWvLH"
      },
      "execution_count": 30,
      "outputs": []
    },
    {
      "cell_type": "markdown",
      "source": [
        "Путь"
      ],
      "metadata": {
        "id": "KJH-rIgKDy_g"
      }
    },
    {
      "cell_type": "code",
      "source": [
        "path = Path('/content/gdrive/MyDrive/work/Fuzzy_logic_and_ML/Blood_count_Toy_dataset/amg_16.02.2022_2p5_cc')\n",
        "path"
      ],
      "metadata": {
        "colab": {
          "base_uri": "https://localhost:8080/"
        },
        "id": "Yrtocd6SDtIB",
        "outputId": "5b8a25d9-3d34-444b-cbe4-77594d7f6030"
      },
      "execution_count": 10,
      "outputs": [
        {
          "output_type": "execute_result",
          "data": {
            "text/plain": [
              "Path('/content/gdrive/MyDrive/work/Fuzzy_logic_and_ML/Blood_count_Toy_dataset/amg_16.02.2022_2p5_cc')"
            ]
          },
          "metadata": {},
          "execution_count": 10
        }
      ]
    },
    {
      "cell_type": "markdown",
      "source": [
        "Чтение содержимого папки"
      ],
      "metadata": {
        "id": "_HIodFaDE1VW"
      }
    },
    {
      "cell_type": "code",
      "source": [
        "fnames = get_image_files(path)\n",
        "fnames[0]"
      ],
      "metadata": {
        "colab": {
          "base_uri": "https://localhost:8080/"
        },
        "id": "_vNmx5_oE41j",
        "outputId": "a77849f6-5aa9-40bf-edd9-6f3358b17a36"
      },
      "execution_count": 23,
      "outputs": [
        {
          "output_type": "execute_result",
          "data": {
            "text/plain": [
              "Path('/content/gdrive/MyDrive/work/Fuzzy_logic_and_ML/Blood_count_Toy_dataset/amg_16.02.2022_2p5_cc/img1_000000000000021.png')"
            ]
          },
          "metadata": {},
          "execution_count": 23
        }
      ]
    },
    {
      "cell_type": "code",
      "source": [
        "len(fnames)"
      ],
      "metadata": {
        "id": "vVCpKS1tVXrF",
        "outputId": "3662d200-d5b1-4578-b531-f0ae74120c19",
        "colab": {
          "base_uri": "https://localhost:8080/"
        }
      },
      "execution_count": 22,
      "outputs": [
        {
          "output_type": "execute_result",
          "data": {
            "text/plain": [
              "100"
            ]
          },
          "metadata": {},
          "execution_count": 22
        }
      ]
    },
    {
      "cell_type": "markdown",
      "source": [
        "Вывод изображения на экран"
      ],
      "metadata": {
        "id": "Izz35yMHFUyy"
      }
    },
    {
      "cell_type": "code",
      "source": [
        "#img = Image.open(fnames[0])\n",
        "#img"
      ],
      "metadata": {
        "id": "FHLjiu6NFYvD"
      },
      "execution_count": null,
      "outputs": []
    },
    {
      "cell_type": "code",
      "source": [
        "#img.shape, type(img)"
      ],
      "metadata": {
        "id": "EAaZqjsnFv26"
      },
      "execution_count": null,
      "outputs": []
    },
    {
      "cell_type": "code",
      "source": [
        "img1 = np.uint32(cv2.imread(str(fnames[0])))\n",
        "img1.shape,type(img1)"
      ],
      "metadata": {
        "id": "H0pZQlekGBs8",
        "colab": {
          "base_uri": "https://localhost:8080/"
        },
        "outputId": "3223e1e4-59f8-448b-9382-ae280ae9b867"
      },
      "execution_count": 27,
      "outputs": [
        {
          "output_type": "execute_result",
          "data": {
            "text/plain": [
              "((1000, 1000, 3), numpy.ndarray)"
            ]
          },
          "metadata": {},
          "execution_count": 27
        }
      ]
    },
    {
      "cell_type": "code",
      "source": [
        "plt.figure(figsize = fig_size)"
      ],
      "metadata": {
        "id": "vaftTKwRZbkx",
        "outputId": "6806b7e6-e060-4611-8f44-ea5405e7e2d3",
        "colab": {
          "base_uri": "https://localhost:8080/",
          "height": 52
        }
      },
      "execution_count": 31,
      "outputs": [
        {
          "output_type": "execute_result",
          "data": {
            "text/plain": [
              "<Figure size 360x360 with 0 Axes>"
            ]
          },
          "metadata": {},
          "execution_count": 31
        },
        {
          "output_type": "display_data",
          "data": {
            "text/plain": [
              "<Figure size 360x360 with 0 Axes>"
            ]
          },
          "metadata": {}
        }
      ]
    },
    {
      "cell_type": "code",
      "source": [
        "cv2_imshow(img1)"
      ],
      "metadata": {
        "id": "T6AvNRc-GzK_"
      },
      "execution_count": null,
      "outputs": []
    }
  ]
}