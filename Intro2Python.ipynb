{
  "nbformat": 4,
  "nbformat_minor": 0,
  "metadata": {
    "colab": {
      "name": "Untitled23.ipynb",
      "provenance": [],
      "authorship_tag": "ABX9TyPQ38p5EMvp79kPlUCsnPyB",
      "include_colab_link": true
    },
    "kernelspec": {
      "name": "python3",
      "display_name": "Python 3"
    },
    "language_info": {
      "name": "python"
    }
  },
  "cells": [
    {
      "cell_type": "markdown",
      "metadata": {
        "id": "view-in-github",
        "colab_type": "text"
      },
      "source": [
        "<a href=\"https://colab.research.google.com/github/Mechanics-Mechatronics-and-Robotics/Fuzzy-logic-and-ML/blob/main/Intro2Python.ipynb\" target=\"_parent\"><img src=\"https://colab.research.google.com/assets/colab-badge.svg\" alt=\"Open In Colab\"/></a>"
      ]
    },
    {
      "cell_type": "markdown",
      "source": [
        "#Установка и загрузка библиотек"
      ],
      "metadata": {
        "id": "MoHg81y2B9fo"
      }
    },
    {
      "cell_type": "code",
      "execution_count": 18,
      "metadata": {
        "id": "YAlI7pLPB1rq"
      },
      "outputs": [],
      "source": [
        "!pip install -Uqq fastbook\n",
        "import fastbook\n",
        "fastbook.setup_book()"
      ]
    },
    {
      "cell_type": "code",
      "source": [
        "from fastai.vision.all import *\n",
        "import cv2\n",
        "from google.colab.patches import cv2_imshow"
      ],
      "metadata": {
        "id": "dYxM-rMwC1-j"
      },
      "execution_count": 19,
      "outputs": []
    },
    {
      "cell_type": "markdown",
      "source": [
        "#Исходные данные"
      ],
      "metadata": {
        "id": "EgNqhgaNDoyT"
      }
    },
    {
      "cell_type": "markdown",
      "source": [
        "## Настройки"
      ],
      "metadata": {
        "id": "AF8NVd5TWpez"
      }
    },
    {
      "cell_type": "code",
      "source": [
        "#Visualization\n",
        "fig_size = (7,7)\n",
        "img_map = 'hot'# 'gray','hot', 'Blues'... (matplotlib)\n",
        "img_slice = []"
      ],
      "metadata": {
        "id": "DNJBs4QkWvLH"
      },
      "execution_count": 32,
      "outputs": []
    },
    {
      "cell_type": "markdown",
      "source": [
        "Путь"
      ],
      "metadata": {
        "id": "KJH-rIgKDy_g"
      }
    },
    {
      "cell_type": "code",
      "source": [
        "path = Path('/content/gdrive/MyDrive/work/Fuzzy_logic_and_ML/Blood_count_Toy_dataset/lgm_f_16.02.2022_2p5_cc')\n",
        "path"
      ],
      "metadata": {
        "colab": {
          "base_uri": "https://localhost:8080/"
        },
        "id": "Yrtocd6SDtIB",
        "outputId": "79cbfa55-d9c5-4b58-8811-6419ebfc5b08"
      },
      "execution_count": 21,
      "outputs": [
        {
          "output_type": "execute_result",
          "data": {
            "text/plain": [
              "Path('/content/gdrive/MyDrive/work/Fuzzy_logic_and_ML/Blood_count_Toy_dataset/lgm_f_16.02.2022_2p5_cc')"
            ]
          },
          "metadata": {},
          "execution_count": 21
        }
      ]
    },
    {
      "cell_type": "markdown",
      "source": [
        "Чтение содержимого папки"
      ],
      "metadata": {
        "id": "_HIodFaDE1VW"
      }
    },
    {
      "cell_type": "code",
      "source": [
        "fnames = get_image_files(path)\n",
        "fnames[0]"
      ],
      "metadata": {
        "colab": {
          "base_uri": "https://localhost:8080/"
        },
        "id": "_vNmx5_oE41j",
        "outputId": "f4d23717-3364-4d72-dd6f-33d52e7fb8c6"
      },
      "execution_count": 22,
      "outputs": [
        {
          "output_type": "execute_result",
          "data": {
            "text/plain": [
              "Path('/content/gdrive/MyDrive/work/Fuzzy_logic_and_ML/Blood_count_Toy_dataset/lgm_f_16.02.2022_2p5_cc/img1_000000000000040.png')"
            ]
          },
          "metadata": {},
          "execution_count": 22
        }
      ]
    },
    {
      "cell_type": "code",
      "source": [
        "len(fnames)"
      ],
      "metadata": {
        "colab": {
          "base_uri": "https://localhost:8080/"
        },
        "id": "vVCpKS1tVXrF",
        "outputId": "6b8f42e2-3367-4e9a-db58-fe56d5e88657"
      },
      "execution_count": 23,
      "outputs": [
        {
          "output_type": "execute_result",
          "data": {
            "text/plain": [
              "100"
            ]
          },
          "metadata": {},
          "execution_count": 23
        }
      ]
    },
    {
      "cell_type": "markdown",
      "source": [
        "Вывод изображения на экран"
      ],
      "metadata": {
        "id": "Izz35yMHFUyy"
      }
    },
    {
      "cell_type": "code",
      "source": [
        "#img = Image.open(fnames[0])\n",
        "#img"
      ],
      "metadata": {
        "id": "FHLjiu6NFYvD"
      },
      "execution_count": 24,
      "outputs": []
    },
    {
      "cell_type": "code",
      "source": [
        "#img.shape, type(img)"
      ],
      "metadata": {
        "id": "EAaZqjsnFv26"
      },
      "execution_count": 25,
      "outputs": []
    },
    {
      "cell_type": "code",
      "source": [
        "img1 = np.uint32(cv2.imread(str(fnames[0])))\n",
        "img1.shape,type(img1)"
      ],
      "metadata": {
        "id": "H0pZQlekGBs8",
        "colab": {
          "base_uri": "https://localhost:8080/"
        },
        "outputId": "a379f370-d649-483d-c2cf-d5d64ff0365c"
      },
      "execution_count": 26,
      "outputs": [
        {
          "output_type": "execute_result",
          "data": {
            "text/plain": [
              "((1000, 1000, 3), numpy.ndarray)"
            ]
          },
          "metadata": {},
          "execution_count": 26
        }
      ]
    },
    {
      "cell_type": "code",
      "source": [
        "#?plt.imshow"
      ],
      "metadata": {
        "id": "oAUYCxdsci9c"
      },
      "execution_count": 27,
      "outputs": []
    },
    {
      "cell_type": "code",
      "source": [
        "for i in range(len(fnames)):\n",
        "  plt.figure(figsize = (fig_size[0]*3, fig_size[1]))\n",
        "  plt.subplot(1,3,1)\n",
        "  plt.imshow(img1[:,:,0],cmap = 'hot')\n",
        "  plt.title('Red filter')\n",
        "  plt.subplot(1,3,2)\n",
        "  plt.imshow(img1[:,:,1],cmap = 'gray')\n",
        "  plt.title('Green filter')\n",
        "  plt.subplot(1,3,3)\n",
        "  plt.imshow(img1[:,:,2],cmap = 'Blues')\n",
        "  plt.title('Blue filter')"
      ],
      "metadata": {
        "id": "vaftTKwRZbkx"
      },
      "execution_count": null,
      "outputs": []
    },
    {
      "cell_type": "code",
      "source": [
        "#cv2_imshow(img1)"
      ],
      "metadata": {
        "id": "T6AvNRc-GzK_"
      },
      "execution_count": 29,
      "outputs": []
    }
  ]
}